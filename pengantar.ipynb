{
 "cells": [
  {
   "cell_type": "markdown",
   "id": "4fb7f9c5",
   "metadata": {},
   "source": [
    "# Pengantar Pencarian dan Penambangan Web\n",
    "\n",
    "Web Mining merupakan proses penemuan pola dan informasi berharga dari data yang terdapat di internet. Konsep ini diperkenalkan pertama kali oleh Oren Etzioni (1996) dan bertujuan mengekstraksi pengetahuan yang tersembunyi dalam data web yang umumnya bersifat heterogen, semi-terstruktur, hingga tidak terstruktur. Meskipun berakar dari teknik data mining, Web Mining berbeda karena sumber datanya tersebar di berbagai situs, bukan dalam bentuk data warehouse tradisional.\n",
    "\n",
    "Secara umum, Web Mining terbagi menjadi tiga kategori utama:\n",
    "\n",
    "1.\tWeb Structure Mining\n",
    "Fokus pada analisis struktur hyperlink antar halaman web. Dari pola hubungan ini dapat diketahui halaman penting, komunitas daring, serta alur navigasi web. Teknologi ini banyak dimanfaatkan mesin pencari untuk menentukan relevansi halaman.\n",
    "\n",
    "2.\tWeb Content Mining\n",
    "Menekankan pada penggalian informasi dari konten sebuah web, seperti teks, gambar, video, metadata, maupun hyperlink. Teknik ini memungkinkan klasifikasi otomatis halaman, ekstraksi data produk, analisis opini konsumen, hingga analisis sentimen terhadap ulasan pengguna. Aplikasi utamanya mencakup pengembangan sistem rekomendasi, pemantauan reputasi, serta optimasi strategi pemasaran seperti dropshipping.\n",
    "\n",
    "3.\tWeb Usage Mining\n",
    "Berhubungan dengan penemuan pola akses pengguna melalui data log, clickstream, maupun cookies. Hasil analisis dapat dimanfaatkan untuk personalisasi tampilan web, memahami perilaku konsumen, dan menentukan target pasar. Tantangan utama terletak pada tahap preprocessing agar data benar-benar siap untuk ditambang.\n",
    "\n",
    "##  Penerapan Web Mining\n",
    "\n",
    "Web Mining banyak digunakan pada berbagai bidang, antara lain:\n",
    "\n",
    "•\tMeningkatkan performa mesin pencari dengan mengklasifikasikan dan mengelompokkan dokumen web.\n",
    "\n",
    "•\tPrediksi perilaku pengguna untuk personalisasi layanan.\n",
    "\n",
    "•\tOptimalisasi strategi bisnis, misalnya pada e-commerce, pengaturan halaman arahan, hingga pemantauan opini publik.\n",
    "\n",
    "•\tMendukung riset ilmiah, khususnya dalam analisis teks, opini, dan tren sosial.\n",
    "\n",
    "##  Kesimpulan\n",
    "\n",
    "Web Mining merupakan kombinasi antara data mining dan information retrieval yang diterapkan pada data web. Dengan tiga pendekatan utama—content, structure, dan usage mining—teknik ini mampu memberikan wawasan berharga untuk bisnis, riset, maupun pengembangan teknologi. Keunggulannya terletak pada kemampuannya mengolah data besar yang tersebar luas di internet menjadi informasi yang relevan dan bermanfaat.\n",
    "\n",
    "##  Referensi\n",
    "\n",
    "•   https://sis.binus.ac.id/2021/08/04/apa-itu-web-mining/\n",
    "\n",
    "•   https://mulaab.github.io/webmining/memahami/\n"
   ]
  }
 ],
 "metadata": {
  "kernelspec": {
   "display_name": "Python 3",
   "language": "python",
   "name": "python3"
  },
  "language_info": {
   "codemirror_mode": {
    "name": "ipython",
    "version": 3
   },
   "file_extension": ".py",
   "mimetype": "text/x-python",
   "name": "python",
   "nbconvert_exporter": "python",
   "pygments_lexer": "ipython3",
   "version": "3.11.9"
  }
 },
 "nbformat": 4,
 "nbformat_minor": 5
}

{
  "cells": [
    {
      "cell_type": "markdown",
      "metadata": {},
      "source": [
        "#   Crawling"
      ]
    },
    {
      "cell_type": "code",
      "execution_count": 1,
      "metadata": {
        "colab": {
          "base_uri": "https://localhost:8080/"
        },
        "id": "YVpaX_TqZj6Q",
        "outputId": "025c0fcb-a719-4a93-9163-bc441f095413"
      },
      "outputs": [
        {
          "name": "stdout",
          "output_type": "stream",
          "text": [
            "Collecting sprynger\n",
            "  Downloading sprynger-0.4.1-py3-none-any.whl.metadata (5.8 kB)\n",
            "Requirement already satisfied: lxml in /usr/local/lib/python3.12/dist-packages (from sprynger) (5.4.0)\n",
            "Requirement already satisfied: requests in /usr/local/lib/python3.12/dist-packages (from sprynger) (2.32.4)\n",
            "Requirement already satisfied: urllib3 in /usr/local/lib/python3.12/dist-packages (from sprynger) (2.5.0)\n",
            "Requirement already satisfied: platformdirs in /usr/local/lib/python3.12/dist-packages (from sprynger) (4.3.8)\n",
            "Requirement already satisfied: charset_normalizer<4,>=2 in /usr/local/lib/python3.12/dist-packages (from requests->sprynger) (3.4.3)\n",
            "Requirement already satisfied: idna<4,>=2.5 in /usr/local/lib/python3.12/dist-packages (from requests->sprynger) (3.10)\n",
            "Requirement already satisfied: certifi>=2017.4.17 in /usr/local/lib/python3.12/dist-packages (from requests->sprynger) (2025.8.3)\n",
            "Downloading sprynger-0.4.1-py3-none-any.whl (40 kB)\n",
            "\u001b[2K   \u001b[90m━━━━━━━━━━━━━━━━━━━━━━━━━━━━━━━━━━━━━━━━\u001b[0m \u001b[32m40.2/40.2 kB\u001b[0m \u001b[31m1.5 MB/s\u001b[0m eta \u001b[36m0:00:00\u001b[0m\n",
            "\u001b[?25hInstalling collected packages: sprynger\n",
            "Successfully installed sprynger-0.4.1\n"
          ]
        }
      ],
      "source": [
        "pip install sprynger"
      ]
    },
    {
      "cell_type": "code",
      "execution_count": 7,
      "metadata": {
        "colab": {
          "base_uri": "https://localhost:8080/"
        },
        "id": "Qit9SFZDZqDo",
        "outputId": "8552e42f-2cd5-4c45-a4c0-f52a0ce7dd6d"
      },
      "outputs": [
        {
          "name": "stdout",
          "output_type": "stream",
          "text": [
            "Total hasil: 317019\n",
            "\n",
            "DOI: 10.1007/978-3-032-00983-8_5\n",
            "Title: Survey on Data Mining and Machine Learning Methods Used in Analyzing Tweets\n",
            "Abstract: It is observed that the Mental illness by the actions and individual emotions and expressions towards a particular situation. It indicates that American Psychiatric Association that has 19% of people experience mental illness. Nearly 4.1% of people [ 1 ] are seriously affected by mental illness. In 2019, World Health Organization(WHO) reported that 264 million people suffer from mental disorders. With the technological growth and affordable internet access, social media usage and impacts are increased in society. Users use social networks to show their emotions, views, and comments related to mental health on various events and themselves. Different intelligent methods that analyze tweets related to depression are summarized. New research areas in analyzing data on social networks are discussed. This article highlights the data mining and machine learning methods associated with mental health using Twitter data.\n",
            "URL: http://link.springer.com/openurl/fulltext?id=doi:10.1007/978-3-032-00983-8_5\n",
            "\n",
            "DOI: 10.1007/978-3-031-93802-3_7\n",
            "Title: Unveiling Power Laws in Graph Mining: Techniques and Applications in Graph Query Analysis\n",
            "Abstract: Power laws play a crucial role in understanding the structural and functional properties of real-world graphs, influencing various aspects of graph mining and query processing. This paper explores the prevalence of power-law distributions in large-scale graph structures and their implications for graph query analysis. We investigate techniques for efficiently mining graphs that exhibit power-law characteristics, leveraging these distributions to optimize query performance and scalability. Our study presents a comprehensive review of existing methodologies for detecting power-law behavior in graphs, highlighting their impact on graph traversal, indexing, and query execution. We also examine algorithmic optimizations tailored for power-law graphs, including degree-based indexing, community-aware search techniques, and efficient subgraph matching approaches. Furthermore, we discuss the applications of power-law principles in diverse domains such as social network analysis, bioinformatics, and knowledge graphs. Through empirical analysis on real-world datasets, we demonstrate how power-law-aware techniques improve query efficiency and reduce computational complexity in large graph databases. The findings of this study offer valuable insights into the interplay between graph topology and query optimization, paving the way for enhanced graph mining frameworks. Our work contributes to the development of more scalable and intelligent graph query processing systems, with broad implications for data-driven decision-making.\n",
            "URL: http://link.springer.com/openurl/fulltext?id=doi:10.1007/978-3-031-93802-3_7\n",
            "\n",
            "DOI: 10.1007/978-981-96-7238-7_2\n",
            "Title: Architecture Mining Approach for Systems-of-Systems: Monitoring and Discovery\n",
            "Abstract: Context: Systems of Systems (SoS) constitute a type of complex software systems resulting from integrating heterogeneous constituent systems that are independently operable on their own but are networked together for a common goal. Each constituent system has its own purpose and could operate and collaborate voluntarily with other constituent systems to achieve a common goal that cannot be treated by any of them in isolation. Objective: A constituent system may be deployed or undeployed at run-time within an SoS. Emergent behaviors may be undesirable and affect the behaviors of each constituent system and lead to unexpected operations and a lack of permanent status in the SoS. Thus, we need to continuously extract and represent the actual behaviors within the SoS at run-time. Method: In this paper, we implement the first step our “Architecture Mining” approach. Thus, we monitor an SoS and develop Discovery algorithm to extract the actual behaviors. The actual behaviors are presented by a “Discovered Model” dynamically and automatically built from the execution traces. Results: To implement our approach, we applied it to a case study entitled Smart City, which is an SoS including six types of constituent systems. We extracted the actual behaviors executed at run time from the SoS execution traces, which have never been modeled in any constituent system nor expected by the designer.\n",
            "URL: http://link.springer.com/openurl/fulltext?id=doi:10.1007/978-981-96-7238-7_2\n",
            "\n",
            "DOI: 10.1007/978-3-031-95296-8_15\n",
            "Title: A Mathematical Model and Algorithm for Data Analysis in the Intelligent Management System for Mining and Transport Complexes\n",
            "Abstract: Machine learning methods play an important role in creating algorithms for data analysis in the mining industry. These methods allow you to train the system based on historical data and identify hidden patterns that may not be obvious in traditional analysis. Machine learning algorithms can be used to predict breakdowns, optimize production processes and identify anomalies in the operation of machinery. For example, with the help of training on data on the operation of equipment, you can create a model that will predict the probability of failure of a certain part under specified operating conditions.\n",
            "URL: http://link.springer.com/openurl/fulltext?id=doi:10.1007/978-3-031-95296-8_15\n",
            "\n",
            "DOI: 10.1007/978-3-031-90470-7_6\n",
            "Title: ‘Internet of Things’ and ‘Social Networking’: Containment\n",
            "Abstract: Moving to the post-2000 period, or the post-formation Internet Polity, this chapter begins with the implications of the internet becoming the centred repository of sources, medium of investigation, and object in historicist accounts of recent and contemporary events. Debates on ‘technological determinism Technological determinism ’ are considered here. As events, 9/11 and the 2000 dot-com crash are pegged as turning points. A broad argument is proposed about the condition of the Internet Polity thereafter. It is suggested that it became contained in two moves during the 2000s. This containment involved, first, a space of the internet opening beyond the scope of the Internet Polity. This space incorporated data exchanges between ‘smart’ objects, unsupervised systems, and machine-learning systems. Second, much of the Internet Polity discourse and collective life became concentrated in very large platforms, which have global reach, local penetration, and data-management standards. This move facilitated the burgeoning data market and fed into the first move. The two moves are outlined by focusing on two catchwords and related terms. The first is addressed via the connotations of ‘Internet of Things’ and ‘smart’ objects, and the second by pausing on ‘social networking’ (on ‘sites’ or ‘platforms’). This chapter, and the study, concludes by briefly reconsidering the formative first principles of the Internet Polity, and pinpointing areas for further investigations.\n",
            "URL: http://link.springer.com/openurl/fulltext?id=doi:10.1007/978-3-031-90470-7_6\n",
            "\n",
            "DOI: 10.1007/978-3-031-93802-3_10\n",
            "Title: Integrating Graph Convolutional Networks for Web Traffic Prediction\n",
            "Abstract: Web traffic forecasting plays a crucial role in optimizing network resources, enhancing user experience, and ensuring efficient server load management. Traditional approaches, such as ARIMA, SARIMA, and machine learning methods like support vector machines and decision trees, focus primarily on temporal data. These models, however, often fail to capture the intricate relationships within web traffic data, such as user interactions or page-to-page connections, resulting in sub-optimal predictive performance. Graph Convolutional Networks (GCNs) address these limitations by modeling web traffic as a graph, where web pages or users are represented as nodes, and their interactions form edges. GCNs aggregate node information through graph structures, enabling the model to learn both spatial and temporal dependencies inherent in web traffic. This ability to exploit complex data relationships makes GCNs well-suited for more accurate and dynamic web traffic predictions. In this work, we propose a GCN-based framework for web traffic forecasting, incorporating multiple optimizers like Adam, RMSProp, and SGD to identify the model’s fair performance. By optimizing training through these methods, the GCN model efficiently captures both short-term fluctuations and long-term trends in web traffic patterns. Our study highlights the potential of GCNs in elevating the accuracy and reliability of web traffic forecasting. The integration of advanced optimizers further enhances convergence and prediction efficiency, offering a more scalable solution to meet the demands of rapidly growing and complex web systems.\n",
            "URL: http://link.springer.com/openurl/fulltext?id=doi:10.1007/978-3-031-93802-3_10\n",
            "\n",
            "DOI: 10.1007/978-3-031-93257-1_6\n",
            "Title: Adaptive Web API Recommendation via Matching Service Clusters and Mashup Requirement\n",
            "Abstract: With the rapid proliferation of Web services and Web APIs, recommendation systems can effectively address the issue of information overload and alleviate the burden of meaningless filtering. Existing approaches can help filtering appropriate Web services for mashup creation, however, they often fall short of developers’ different and personalized needs by recommending only a fixed number of APIs and lack precision in aligning mashup requirements across all categories. To solve the above issue, this paper introduces a novel Web service recommendation framework called AWAR for mashup creation, which focuses on the matching strategy between mashup requirements and Web APIs, and enhances recommendation effectiveness by integrating natural language processing, optimization algorithms, and deep learning. Extensive experiments conducted on large-scale real datasets demonstrate that the proposed approach receives superior recommendation results on multiple evaluation metrics compared to advanced competing baselines.\n",
            "URL: http://link.springer.com/openurl/fulltext?id=doi:10.1007/978-3-031-93257-1_6\n",
            "\n",
            "DOI: 10.1007/978-3-032-02215-8_3\n",
            "Title: Leveraging Machine Learning Techniques for Customer Data Deduplication - Hard-Won Lessons from a Real-World Project in the Financial Industry\n",
            "Abstract: This paper is associated with a tutorial presented at DEXA 2025 Conferences and Workshops. The tutorial shares the practical experience gained from a 3-year R&D project for a big financial institution in Poland. The project aimed at developing deduplication pipelines for customer records. It involved the development of two distinct end-to-end deduplication pipelines that are based on (1) statistical/probabilistic modeling and on (2) machine learning. This tutorial focuses on lessons learned from developing the machine learning pipeline , within the context of a real-world industrial setting. Moreover, this tutorial provides an overview of approaches to data deduplication, including the traditional state-of-the-art baseline deduplication pipeline, solutions based on machine learning and neural networks that apply pre-trained and large language models.\n",
            "URL: http://link.springer.com/openurl/fulltext?id=doi:10.1007/978-3-032-02215-8_3\n",
            "\n",
            "DOI: 10.1007/978-3-031-95296-8_21\n",
            "Title: Intelligent Control System for Ore Transportation and Grinding Process in Gold Mining Fields\n",
            "Abstract: This paper is devoted to optimizing the processes of work using intellectual control systems for the transportation and grinding of ore in gold mining fields. Ore is being optimized through the introduction of modern technologies and information systems in the transportation and grinding processes in order to increase efficiency, reduce energy consumption and reduce production costs. The paper examines the applications of IoT technologies, artificial intelligence, and large-scale data analysis in ore transport and grinding processes. With these systems, there is talk of monitoring processes in real time and improving the efficiency of equipment operation. New methods for managing ore transport and grinding processes through mathematical models, optimization algorithms and artificial neural networks are also presented. The results of scientific research in this paper can contribute to innovations and technological developments in the field of gold mining. Improving efficiency through automation of gold mining processes and intellectual management systems not only contributes to economic benefits, but also to the protection of the environment.\n",
            "URL: http://link.springer.com/openurl/fulltext?id=doi:10.1007/978-3-031-95296-8_21\n",
            "\n",
            "DOI: 10.1007/978-3-032-02088-8_29\n",
            "Title: Benchmarking Embedding Techniques for Modeling User Navigation Behavior on Task-Oriented Software\n",
            "Abstract: Understanding user navigation patterns from clickstream data is crucial for improving business software, yet remains challenging due to the complexity and variability of real-world environments. Unlike controlled settings, real-world clickstreams are noisy, fragmented, and often incomplete, due to session timeouts, network issues, caching, or third-party interactions—making it difficult to reconstruct coherent user journeys. Additionally, the absence of labeled data hinders the use of supervised learning, pushing researchers toward unsupervised or heuristic-based approaches that struggle to fully capture user behavior. In this paper, we present a benchmark of embedding techniques for modeling user navigation behavior on task-oriented software. We identify distinct user behaviors across three real-world case studies. Results show that Pattern2Vec outperforms Word2Vec in capturing meaningful task-based navigation patterns, confirming its suitability for clickstream analysis.\n",
            "URL: http://link.springer.com/openurl/fulltext?id=doi:10.1007/978-3-032-02088-8_29\n",
            "\n"
          ]
        }
      ],
      "source": [
        "import requests\n",
        "import pandas as pd\n",
        "\n",
        "api_key = \"6107deac77dd4c25d5a8b14fb9331de2\"\n",
        "\n",
        "\n",
        "keyword = \"web mining\"\n",
        "\n",
        "url = \"https://api.springernature.com/meta/v2/json\"\n",
        "params = {\n",
        "    \"q\": keyword,\n",
        "    \"api_key\": api_key,\n",
        "    \"p\": 10   # jumlah hasil yang mau ditampilkan\n",
        "}\n",
        "\n",
        "response = requests.get(url, params=params)\n",
        "\n",
        "if response.status_code == 200:\n",
        "    data = response.json()\n",
        "    print(f\"Total hasil: {data['result'][0]['total']}\\n\")\n",
        "    for record in data['records']:\n",
        "        doi = record.get('doi', 'N/A')\n",
        "        title = record.get('title', 'No title')\n",
        "        abstract = record.get('abstract', 'No abstract')\n",
        "        url_val = record.get('url', [{}])[0].get('value', 'N/A')\n",
        "\n",
        "        print(f\"DOI: {doi}\")\n",
        "        print(f\"Title: {title}\")\n",
        "        print(f\"Abstract: {abstract}\")\n",
        "        print(f\"URL: {url_val}\\n\")\n",
        "else:\n",
        "    print(\"Error:\", response.status_code, response.text)"
      ]
    },
    {
      "cell_type": "code",
      "execution_count": 8,
      "metadata": {
        "colab": {
          "base_uri": "https://localhost:8080/"
        },
        "id": "vCToasjbbAB3",
        "outputId": "f252f319-a3fb-43bc-ed37-65faa8d70d36"
      },
      "outputs": [
        {
          "name": "stdout",
          "output_type": "stream",
          "text": [
            "Total hasil: 90635\n",
            "\n",
            "DOI: 10.1007/978-3-031-90470-7_6\n",
            "Title: ‘Internet of Things’ and ‘Social Networking’: Containment\n",
            "Abstract: Moving to the post-2000 period, or the post-formation Internet Polity, this chapter begins with the implications of the internet becoming the centred repository of sources, medium of investigation, and object in historicist accounts of recent and contemporary events. Debates on ‘technological determinism Technological determinism ’ are considered here. As events, 9/11 and the 2000 dot-com crash are pegged as turning points. A broad argument is proposed about the condition of the Internet Polity thereafter. It is suggested that it became contained in two moves during the 2000s. This containment involved, first, a space of the internet opening beyond the scope of the Internet Polity. This space incorporated data exchanges between ‘smart’ objects, unsupervised systems, and machine-learning systems. Second, much of the Internet Polity discourse and collective life became concentrated in very large platforms, which have global reach, local penetration, and data-management standards. This move facilitated the burgeoning data market and fed into the first move. The two moves are outlined by focusing on two catchwords and related terms. The first is addressed via the connotations of ‘Internet of Things’ and ‘smart’ objects, and the second by pausing on ‘social networking’ (on ‘sites’ or ‘platforms’). This chapter, and the study, concludes by briefly reconsidering the formative first principles of the Internet Polity, and pinpointing areas for further investigations.\n",
            "URL: http://link.springer.com/openurl/fulltext?id=doi:10.1007/978-3-031-90470-7_6\n",
            "\n",
            "DOI: 10.1007/978-3-032-00983-8_5\n",
            "Title: Survey on Data Mining and Machine Learning Methods Used in Analyzing Tweets\n",
            "Abstract: It is observed that the Mental illness by the actions and individual emotions and expressions towards a particular situation. It indicates that American Psychiatric Association that has 19% of people experience mental illness. Nearly 4.1% of people [ 1 ] are seriously affected by mental illness. In 2019, World Health Organization(WHO) reported that 264 million people suffer from mental disorders. With the technological growth and affordable internet access, social media usage and impacts are increased in society. Users use social networks to show their emotions, views, and comments related to mental health on various events and themselves. Different intelligent methods that analyze tweets related to depression are summarized. New research areas in analyzing data on social networks are discussed. This article highlights the data mining and machine learning methods associated with mental health using Twitter data.\n",
            "URL: http://link.springer.com/openurl/fulltext?id=doi:10.1007/978-3-032-00983-8_5\n",
            "\n",
            "DOI: 10.1007/978-3-031-93802-3_7\n",
            "Title: Unveiling Power Laws in Graph Mining: Techniques and Applications in Graph Query Analysis\n",
            "Abstract: Power laws play a crucial role in understanding the structural and functional properties of real-world graphs, influencing various aspects of graph mining and query processing. This paper explores the prevalence of power-law distributions in large-scale graph structures and their implications for graph query analysis. We investigate techniques for efficiently mining graphs that exhibit power-law characteristics, leveraging these distributions to optimize query performance and scalability. Our study presents a comprehensive review of existing methodologies for detecting power-law behavior in graphs, highlighting their impact on graph traversal, indexing, and query execution. We also examine algorithmic optimizations tailored for power-law graphs, including degree-based indexing, community-aware search techniques, and efficient subgraph matching approaches. Furthermore, we discuss the applications of power-law principles in diverse domains such as social network analysis, bioinformatics, and knowledge graphs. Through empirical analysis on real-world datasets, we demonstrate how power-law-aware techniques improve query efficiency and reduce computational complexity in large graph databases. The findings of this study offer valuable insights into the interplay between graph topology and query optimization, paving the way for enhanced graph mining frameworks. Our work contributes to the development of more scalable and intelligent graph query processing systems, with broad implications for data-driven decision-making.\n",
            "URL: http://link.springer.com/openurl/fulltext?id=doi:10.1007/978-3-031-93802-3_7\n",
            "\n",
            "DOI: 10.1007/978-3-032-02215-8_7\n",
            "Title: An Enhanced FP-Growth Algorithm with Hybrid Adaptive Support Threshold for Association Rule Mining\n",
            "Abstract: Finding frequent itemsets remains challenging due to manual threshold specification requirements in existing algorithms. This paper presents an Enhanced FP-Growth algorithm incorporating a hybrid adaptive support threshold that combines statistical variance analysis, frequency distribution patterns, and transaction density metrics. The algorithm automatically adjusts support levels based on dataset characteristics, eliminating manual threshold tuning. Experimental evaluation on five benchmark datasets against Aprior, FP-growth, and FP-Max shows our Enhanced FP-Growth consistently achieves superior execution time and improved memory efficiency. The hybrid threshold mechanism dynamically calibrates according to dataset characteristics, offering substantial efficiency gains across diverse data types.\n",
            "URL: http://link.springer.com/openurl/fulltext?id=doi:10.1007/978-3-032-02215-8_7\n",
            "\n",
            "DOI: 10.1007/978-3-031-93257-1_6\n",
            "Title: Adaptive Web API Recommendation via Matching Service Clusters and Mashup Requirement\n",
            "Abstract: With the rapid proliferation of Web services and Web APIs, recommendation systems can effectively address the issue of information overload and alleviate the burden of meaningless filtering. Existing approaches can help filtering appropriate Web services for mashup creation, however, they often fall short of developers’ different and personalized needs by recommending only a fixed number of APIs and lack precision in aligning mashup requirements across all categories. To solve the above issue, this paper introduces a novel Web service recommendation framework called AWAR for mashup creation, which focuses on the matching strategy between mashup requirements and Web APIs, and enhances recommendation effectiveness by integrating natural language processing, optimization algorithms, and deep learning. Extensive experiments conducted on large-scale real datasets demonstrate that the proposed approach receives superior recommendation results on multiple evaluation metrics compared to advanced competing baselines.\n",
            "URL: http://link.springer.com/openurl/fulltext?id=doi:10.1007/978-3-031-93257-1_6\n",
            "\n",
            "DOI: 10.1007/978-3-032-02088-8_29\n",
            "Title: Benchmarking Embedding Techniques for Modeling User Navigation Behavior on Task-Oriented Software\n",
            "Abstract: Understanding user navigation patterns from clickstream data is crucial for improving business software, yet remains challenging due to the complexity and variability of real-world environments. Unlike controlled settings, real-world clickstreams are noisy, fragmented, and often incomplete, due to session timeouts, network issues, caching, or third-party interactions—making it difficult to reconstruct coherent user journeys. Additionally, the absence of labeled data hinders the use of supervised learning, pushing researchers toward unsupervised or heuristic-based approaches that struggle to fully capture user behavior. In this paper, we present a benchmark of embedding techniques for modeling user navigation behavior on task-oriented software. We identify distinct user behaviors across three real-world case studies. Results show that Pattern2Vec outperforms Word2Vec in capturing meaningful task-based navigation patterns, confirming its suitability for clickstream analysis.\n",
            "URL: http://link.springer.com/openurl/fulltext?id=doi:10.1007/978-3-032-02088-8_29\n",
            "\n",
            "DOI: 10.1007/978-3-032-01723-9_9\n",
            "Title: Analyzing Water Consumption Patterns in Mexico City: A GIS and Data Science Approach\n",
            "Abstract: Water scarcity in Mexico City has become an increasingly urgent issue, exacerbated by inefficient and unequal consumption patterns across its urban fabric. This study advances Geographic Information Systems (GIS) research by developing and applying an integrative spatial analysis framework specifically tailored to the complexities of urban water management. Beyond its application to Mexico City, the research demonstrates how GIS can be used to fuse heterogeneous datasets, including those from SACMEX (Mexico City’s Water System), INEGI (National Institute of Statistics and Geography), and DENUE (National Directory of Economic Units), into a unified analytical environment. Through a combination of exploratory data analysis (EDA), spatial data mining, and clustering techniques, the study identifies critical disparities in water consumption at multiple spatial scales, from boroughs to neighborhoods. A key contribution is the implementation of a layered system architecture for managing historic spatiotemporal data, enabling dynamic visualization of consumption patterns. The findings reveal that socio-economic and demographic variables play a decisive role in shaping spatial water demand, with marginalized communities facing disproportionate challenges. While previous spatiotemporal analyses of water consumption in Mexico City have primarily focused on aggregated borough-level data or isolated socio-demographic correlations, they have often lacked multiscale integration, high-resolution neighborhood-level analysis, or interactive visualization tools to support policy development. This research addresses these limitations by providing a fine-grained, multilayered analytical approach that enhances the scientific understanding of urban water use. Beyond offering immediate policy-relevant insights for Mexico City, the methodological framework proposed here contributes to GIS research by providing a scalable, transferable approach for analyzing urban resource consumption patterns. Future work will focus on incorporating real-time data streams, expanding sector-specific analysis, and integrating additional variables and domains required for a comprehensive understanding of water dynamics. This study represents a first step toward building an adaptive, equitable, and efficient urban water management strategy.\n",
            "URL: http://link.springer.com/openurl/fulltext?id=doi:10.1007/978-3-032-01723-9_9\n",
            "\n",
            "DOI: 10.1007/978-981-96-6951-6_19\n",
            "Title: Research on Sensor Behavioral Psychological Health Based on Multi-task Learning\n",
            "Abstract: As society develops, mental health is becoming increasingly important. Traditional mental health assessment methods, such as face-to-face interviews and observational techniques, are limited by several factors, including subjectivity, response delays, and high costs. To address these issues, recent research has utilized smart sensor data. Using smartphones to collect data provides valuable insights into student behavior while ensuring the privacy of the individuals involved. The transition from traditional questionnaires to sensor data has prompted the adoption of a multi-task learning (MTL) framework for a more comprehensive classification of mental health. This study investigates the relationship between behavioral attributes and mental health dimensions, using the Apriori algorithm for association rule mining and feature extraction. This method uncovers significant correlations, highlighting the close connection between mental health and behavioral data through detailed analysis. The study proposes the use of multi-task modeling to optimize information utilization and identify correlations across tasks. The introduction of the Deep Cross Network with Squeeze and Excitation Network and Progressive Layered Extraction (DC-SE-PLE), a deep learning neural network model, enhances hierarchical feature extraction and cross-task learning, significantly improving the model’s generalization and prediction accuracy.\n",
            "URL: http://link.springer.com/openurl/fulltext?id=doi:10.1007/978-981-96-6951-6_19\n",
            "\n",
            "DOI: 10.1007/978-3-031-89518-0_1\n",
            "Title: On the Centrality of Web Trackers: Assessing Its Potential for Automated Detection\n",
            "Abstract: For the past 20 years, web tracking has raised worries among privacy advocates and authorities responsible for data protection. Researchers have proposed several machine learning-driven remedies to identify Web trackers in an automated manner. While those have displayed potential, they have primarily remained as proofs-of-concept. This work extends on t.ex-Graph outlined in our previous work [ 36 ]. The aim of this model is to distinguish benign from tracking hosts by considering their centrality in the network, and data flows to them. Based on the results of our previous work, we abandoned the SLD-based approach. Consequently, we made slight modifications to the feature vector. Our classifier’s performance is comparable to its original version, and we tested its cross-browser and longitudinal performance. Our results indicate that while the cross-browser performance significantly decreases, the longitudinal performance maintains a high level.\n",
            "URL: http://link.springer.com/openurl/fulltext?id=doi:10.1007/978-3-031-89518-0_1\n",
            "\n",
            "DOI: 10.1007/978-3-032-02215-8_6\n",
            "Title: FNoDe: Faulty Node Detection in Microservices Architecture\n",
            "Abstract: As cloud services shift from monolithic architectures to microservices, post-failure fault and anomaly detection becomes increasingly challenging due to cascading effects across interdependent services and the overwhelming volume of heterogeneous logs and metrics. We propose FNoDe (Faulty Node Detection), a framework that integrates application logs, performance metrics, and distributed traces into a unified graph structure to detect both the root cause and type of anomaly. By leveraging a graph convolutional network (GCN), FNoDe learns system representations under normal and anomalous states from historical microservice data and uses these embeddings to classify new system states. Evaluated on five public benchmarks and two in-house microservice systems, FNoDe outperforms traditional methods by 20–30% in accuracy and maintains competitive performance with state-of-the-art frameworks, while also offering interpretability through XAI techniques.\n",
            "URL: http://link.springer.com/openurl/fulltext?id=doi:10.1007/978-3-032-02215-8_6\n",
            "\n"
          ]
        }
      ],
      "source": [
        "api_key = \"6107deac77dd4c25d5a8b14fb9331de2\"\n",
        "\n",
        "keyword = \"web usage mining\"\n",
        "\n",
        "url = \"https://api.springernature.com/meta/v2/json\"\n",
        "params = {\n",
        "    \"q\": keyword,\n",
        "    \"api_key\": api_key,\n",
        "    \"p\": 10   # jumlah hasil yang mau ditampilkan\n",
        "}\n",
        "\n",
        "response = requests.get(url, params=params)\n",
        "\n",
        "if response.status_code == 200:\n",
        "    data = response.json()\n",
        "    print(f\"Total hasil: {data['result'][0]['total']}\\n\")\n",
        "    for record in data['records']:\n",
        "        doi = record.get('doi', 'N/A')\n",
        "        title = record.get('title', 'No title')\n",
        "        abstract = record.get('abstract', 'No abstract')\n",
        "        url_val = record.get('url', [{}])[0].get('value', 'N/A')\n",
        "\n",
        "        print(f\"DOI: {doi}\")\n",
        "        print(f\"Title: {title}\")\n",
        "        print(f\"Abstract: {abstract}\")\n",
        "        print(f\"URL: {url_val}\\n\")\n",
        "else:\n",
        "    print(\"Error:\", response.status_code, response.text)"
      ]
    },
    {
      "cell_type": "code",
      "execution_count": 9,
      "metadata": {
        "colab": {
          "base_uri": "https://localhost:8080/"
        },
        "id": "-6FfhssObJKK",
        "outputId": "dbbf5300-5e36-482b-a411-c0d881f7d159"
      },
      "outputs": [
        {
          "name": "stdout",
          "output_type": "stream",
          "text": [
            "Total hasil: 1169861\n",
            "\n",
            "DOI: 10.1007/978-3-031-93530-5_1\n",
            "Title: Introduction\n",
            "Abstract: Many leading enterprises have started seeking opportunities to leverage advanced analytics on employee-related data to provide evidence-based insights into their workforce [65]. Among others, Google’s project “Oxygen” is an example of successfully deploying workforce analytics, which helped improve the company’s productivity and employee well-being and build up effective human resource management practices [40]. Yet, there are practical challenges that prevent workforce analytics from realizing its promise. One notable challenge is concerned with the absence of group-oriented analysis pivotal to strategy execution and organizational effectiveness [56]. For example, current workforce analytics has not yet enabled consistent comparisons across internal groups within organizations [44].\n",
            "URL: http://link.springer.com/openurl/fulltext?id=doi:10.1007/978-3-031-93530-5_1\n",
            "\n",
            "DOI: 10.1007/978-3-032-00983-8_5\n",
            "Title: Survey on Data Mining and Machine Learning Methods Used in Analyzing Tweets\n",
            "Abstract: It is observed that the Mental illness by the actions and individual emotions and expressions towards a particular situation. It indicates that American Psychiatric Association that has 19% of people experience mental illness. Nearly 4.1% of people [ 1 ] are seriously affected by mental illness. In 2019, World Health Organization(WHO) reported that 264 million people suffer from mental disorders. With the technological growth and affordable internet access, social media usage and impacts are increased in society. Users use social networks to show their emotions, views, and comments related to mental health on various events and themselves. Different intelligent methods that analyze tweets related to depression are summarized. New research areas in analyzing data on social networks are discussed. This article highlights the data mining and machine learning methods associated with mental health using Twitter data.\n",
            "URL: http://link.springer.com/openurl/fulltext?id=doi:10.1007/978-3-032-00983-8_5\n",
            "\n",
            "DOI: 10.1007/978-3-032-02929-4_23\n",
            "Title: FairPM: A Taxonomy of Bias and Interventions in Process Mining\n",
            "Abstract: As organizations increasingly rely on data-driven methods to support decision-making, ensuring fairness in their processes becomes critical. Fairness in responsible process mining involves preventing unfair outcomes and recognizing potential biases that may arise in the different stages of process mining initiative. Acting fairly entails treating individuals equitably, irrespective of inherent or acquired characteristics such as gender, race, or disability, while ensuring compliance with legal and organizational fairness standards. While fairness in process mining has been explored in prior research, there remains a lack of conceptualization to identify, understand, and address fairness issues. To bridge this gap, we propose FairPM , a taxonomy that conceptualizes biases in process mining and the corresponding interventions to mitigate them. Our approach builds on theory adaptation as research method. It integrates an adaptation of biases and interventions from prior machine learning research into process mining. We illustrate the applicability of FairPM through three scenarios, demonstrating its relevance for both academia and industry. This research contributes to the growing field of fair process mining by providing a structured conceptualization that enables researchers and practitioners to diagnose biases and implement fairness interventions, ensuring equitable and unbiased process mining outcomes.\n",
            "URL: http://link.springer.com/openurl/fulltext?id=doi:10.1007/978-3-032-02929-4_23\n",
            "\n",
            "DOI: 10.1007/978-3-031-93802-3_5\n",
            "Title: Efficient Frequent Subgraph Mining: Algorithms and Applications in Complex Networks\n",
            "Abstract: Frequent subgraph mining (FSM) is a fundamental problem in graph analysis with wide-ranging applications in bioinformatics, social network analysis, cybersecurity, and cheminformatics. This paper presents efficient algorithms for FSM in complex networks, addressing the computational challenges posed by large-scale graph data. Traditional approaches often suffer from scalability issues due to the combinatorial explosion of subgraph candidates. To mitigate these challenges, we propose an optimized FSM framework leveraging advanced pruning techniques, graph compression, and parallel computing. Our approach incorporates pattern-growth strategies with heuristic search methods to improve computational efficiency while maintaining accuracy. We evaluate our proposed algorithms on benchmark datasets, demonstrating significant performance gains over existing methods in terms of runtime and memory consumption. Additionally, we explore real-world applications, such as detecting anomalous patterns in cybersecurity networks, identifying molecular structures in drug discovery, and analyzing connectivity patterns in social networks. The results underscore the potential of efficient FSM algorithms in extracting meaningful insights from complex graph data. This research contributes to the advancement of graph mining techniques, providing a scalable and effective solution for large-scale network analysis. Future work will explore deep learning-based enhancements to further optimize FSM in dynamic and evolving graph structures.\n",
            "URL: http://link.springer.com/openurl/fulltext?id=doi:10.1007/978-3-031-93802-3_5\n",
            "\n",
            "DOI: 10.1007/978-3-032-00983-8_6\n",
            "Title: Optimizing Powder Factor for Sustainable Mining Operations Through Machine Learning Models: A Step Towards Intelligent Mining\n",
            "Abstract: This research addresses the challenge of optimizing the powder factor (PF) in mining operations to enhance blasting efficiency and sustainability. Machine learning models, including Linear Regression (LR), Random Sample Consensus (RANSAC), and Huber Regressor (HR), were employed to develop a predictive framework for PF optimization. Model performance was evaluated using metrics such as R^2 (0.9829 for LR, 0.9827 for RANSAC, and 0.9824 for HR), Mean Absolute Error (MAE), and Root Mean Square Error (RMSE), demonstrating their high predictive accuracy. The findings highlight the capability of machine learning to improve blasting control, reduce environmental impacts, and promote sustainable mining practices. By integrating artificial intelligence into mining operations, this study advances the concept of intelligent mining, offering innovative solutions that enhance operational efficiency while fostering environmental stewardship.\n",
            "URL: http://link.springer.com/openurl/fulltext?id=doi:10.1007/978-3-032-00983-8_6\n",
            "\n",
            "DOI: 10.1007/978-3-031-96841-9_2\n",
            "Title: Analyzing Side-Tracking of Developers Using Object-Centric Process Mining\n",
            "Abstract: Managers need to analyze the software development process to pro-actively make decisions that meet quality, budget and time objectives. To aid this analysis, a number of data-driven approaches exist, which can be used for specific purposes, such as computing target key performance indicators (KPIs). In particular, process analysis techniques, like process mining, can analyze data from event logs of information systems and deliver actionable insights on how the process is conducted. However, traditional process mining techniques make strong assumptions on the structure of event logs, requiring the existence of a case identifier, used to group the traces. As a result, the output of such techniques only provides a narrow view of the reality, leading the manager towards wrong interpretations in cases of side-tracking , when a developer is involved in different processes that interleave one another. To account for these cases, we investigate the use of object-centric process mining (OCPM) to analyze software repositories. Our results help to explain performance issues by revealing the contributing factors that hinder the progress of development tasks.\n",
            "URL: http://link.springer.com/openurl/fulltext?id=doi:10.1007/978-3-031-96841-9_2\n",
            "\n",
            "DOI: 10.1007/978-3-031-98033-6_6\n",
            "Title: Trustworthy Artificial Neural Networks Due to Process Mining in AI: Challenges and Opportunities\n",
            "Abstract: Although there has been a lot of progress in developing Process Mining (PM) algorithms and Artificial Intelligence (AI) techniques in recent years, no effort has been put in developing a common means of mining knowledge-based behavior of Artificial Neural Networks (ANN). In a design-science-oriented way, in this paper, elements of a new kind of AI-PM approach are outlined and demonstrated with ANN. These intend to enable (1) AI engineers to mine an ANN’s inner processes to discover its knowledge-induced behavior, realize conformance checking, e.g. w.r.t. an ANN required behavior, and improve ANN due to enhancement. To illustrate the application of this new approach, a set of novel model views and algorithms are proposed, which are demonstrated on simple example logs. Findings show that AI-PM supports the clarification of ANN behavior: As the ANN’s inner activities and knowledge generation can be mined, its non-transparent black box is unveiled and trustworthiness of ANN is supported.\n",
            "URL: http://link.springer.com/openurl/fulltext?id=doi:10.1007/978-3-031-98033-6_6\n",
            "\n",
            "DOI: 10.1007/978-3-031-93601-2_20\n",
            "Title: Leveraging General Unary Hypotheses Automaton for Automating Technical Analysis: A Case Study on Bitcoin Prices\n",
            "Abstract: This paper explores the application of the General Unary Hypotheses Automaton (GUHA) framework to automate the principles of technical analysis, focusing on Bitcoin price prediction. By leveraging technical indicators, such as the Relative Strength Index (RSI), Average Directional Index (ADX), and Bollinger Bands, this study employs data mining techniques to automate insights from technical analysis. The 4 ft-Miner and CF-Miner procedures, implemented through the CleverMiner Python framework, were applied to Bitcoin price data spanning from 2014 to 2024. The findings demonstrate the effectiveness of GUHA in identifying robust predictive patterns. Rules mined via 4 ft-Miner achieved 80.65% confidence in predicting next-day price decreases and 96.15% confidence in forecasting significant upward movements (next-day high exceeding a 1% increase over the opening price). CF-Miner further categorized price return probabilities, enhancing interpretability and revealing ordered insights into the prediction of positive returns. These results underscore GUHA’s potential to automate and enhance the efficiency of technical analysis, providing actionable intelligence for automated trading and financial risk management. By offering interpretable patterns and statistically significant relationships, the GUHA framework bridges the gap between traditional technical analysis and modern algorithmic trading strategies. Future research may extend this approach to longer-term trend predictions and multi-asset portfolios, further advancing the automation of financial market analysis.\n",
            "URL: http://link.springer.com/openurl/fulltext?id=doi:10.1007/978-3-031-93601-2_20\n",
            "\n",
            "DOI: 10.1007/978-3-031-93598-5_20\n",
            "Title: Boosting the Discovery of Interval Patterns Using SAT\n",
            "Abstract: Declarative pattern mining has seen significant advancements in recent years, particularly through the application of symbolic AI techniques on various data types, including binary, numerical, and graph data, etc. The core idea behind these approaches is to reformulate the task of pattern mining as a model enumeration problem in classical logic. These methods have been developed for their flexibility, allowing for easier incorporation of additional user constraints during the mining process. In this paper, we first present a symbolic approach for enumerating closed interval patterns using the propositional satisfiability problem (SAT). Then, by extending the SAT-based encoding of classical patterns with additional constraints to eliminate redundancy, our method proves to be highly efficient. Finally, experimental evaluations on various datasets demonstrate that our SAT-based framework is highly competitive with state-of-the-art approaches, even on large numerical databases.\n",
            "URL: http://link.springer.com/openurl/fulltext?id=doi:10.1007/978-3-031-93598-5_20\n",
            "\n",
            "DOI: 10.1007/978-3-032-02515-9_21\n",
            "Title: In Search of Digital Talent: Evidence from Public Sector Job Advertisements in Germany Using LLM-Enabled Competence Classification\n",
            "Abstract: The public sector continues to struggle with the digital transformation of its organizations, lagging behind the private sector in implementing digital processes and services. A key success factor is the availability of appropriate digital skills in the workforce. This can be enhanced by training existing staff or hiring skilled individuals. In the latter scenario, the hiring process must focus on the required competencies. Typically, job advertisements are used to communicate job requirements. his article explores the presence of digital competencies in job ads of German public organizations. We operationalize the DigComp 2.2 framework as a category system to identify required digital competences in these job advertisements. To assess a large volume of job postings, we employ a Large Language Model (LLM) for categorization. In this way, we are able to process 5,949 job advertisements. Results indicate frequent mentions of skills related to digital content creation and data handling, while communication, problem-solving, and safety are rarely highlighted. Although the reasons for this are not explicitly identified in our study, a mismatch is evident between the push for digital transformation in the public sector and the recruitment practices reflected in job advertisements.\n",
            "URL: http://link.springer.com/openurl/fulltext?id=doi:10.1007/978-3-032-02515-9_21\n",
            "\n"
          ]
        }
      ],
      "source": [
        "api_key = \"6107deac77dd4c25d5a8b14fb9331de2\"\n",
        "\n",
        "keyword = \"data mining\"\n",
        "\n",
        "url = \"https://api.springernature.com/meta/v2/json\"\n",
        "params = {\n",
        "    \"q\": keyword,\n",
        "    \"api_key\": api_key,\n",
        "    \"p\": 10   # jumlah hasil yang mau ditampilkan\n",
        "}\n",
        "\n",
        "response = requests.get(url, params=params)\n",
        "\n",
        "if response.status_code == 200:\n",
        "    data = response.json()\n",
        "    print(f\"Total hasil: {data['result'][0]['total']}\\n\")\n",
        "    for record in data['records']:\n",
        "        doi = record.get('doi', 'N/A')\n",
        "        title = record.get('title', 'No title')\n",
        "        abstract = record.get('abstract', 'No abstract')\n",
        "        url_val = record.get('url', [{}])[0].get('value', 'N/A')\n",
        "\n",
        "        print(f\"DOI: {doi}\")\n",
        "        print(f\"Title: {title}\")\n",
        "        print(f\"Abstract: {abstract}\")\n",
        "        print(f\"URL: {url_val}\\n\")\n",
        "else:\n",
        "    print(\"Error:\", response.status_code, response.text)"
      ]
    },
    {
      "cell_type": "code",
      "execution_count": 10,
      "metadata": {
        "colab": {
          "base_uri": "https://localhost:8080/"
        },
        "id": "Y0-iMdRocr0m",
        "outputId": "de9455d0-8e4a-40a0-b119-1b63fa79fa07"
      },
      "outputs": [
        {
          "name": "stdout",
          "output_type": "stream",
          "text": [
            "Total hasil: 561517\n",
            "\n",
            "DOI: 10.1007/978-3-032-00983-8_5\n",
            "Title: Survey on Data Mining and Machine Learning Methods Used in Analyzing Tweets\n",
            "Abstract: It is observed that the Mental illness by the actions and individual emotions and expressions towards a particular situation. It indicates that American Psychiatric Association that has 19% of people experience mental illness. Nearly 4.1% of people [ 1 ] are seriously affected by mental illness. In 2019, World Health Organization(WHO) reported that 264 million people suffer from mental disorders. With the technological growth and affordable internet access, social media usage and impacts are increased in society. Users use social networks to show their emotions, views, and comments related to mental health on various events and themselves. Different intelligent methods that analyze tweets related to depression are summarized. New research areas in analyzing data on social networks are discussed. This article highlights the data mining and machine learning methods associated with mental health using Twitter data.\n",
            "URL: http://link.springer.com/openurl/fulltext?id=doi:10.1007/978-3-032-00983-8_5\n",
            "\n",
            "DOI: 10.1007/978-3-032-00983-8_6\n",
            "Title: Optimizing Powder Factor for Sustainable Mining Operations Through Machine Learning Models: A Step Towards Intelligent Mining\n",
            "Abstract: This research addresses the challenge of optimizing the powder factor (PF) in mining operations to enhance blasting efficiency and sustainability. Machine learning models, including Linear Regression (LR), Random Sample Consensus (RANSAC), and Huber Regressor (HR), were employed to develop a predictive framework for PF optimization. Model performance was evaluated using metrics such as R^2 (0.9829 for LR, 0.9827 for RANSAC, and 0.9824 for HR), Mean Absolute Error (MAE), and Root Mean Square Error (RMSE), demonstrating their high predictive accuracy. The findings highlight the capability of machine learning to improve blasting control, reduce environmental impacts, and promote sustainable mining practices. By integrating artificial intelligence into mining operations, this study advances the concept of intelligent mining, offering innovative solutions that enhance operational efficiency while fostering environmental stewardship.\n",
            "URL: http://link.springer.com/openurl/fulltext?id=doi:10.1007/978-3-032-00983-8_6\n",
            "\n",
            "DOI: 10.1007/978-3-032-02929-4_9\n",
            "Title: Discovering Comprehensive Branched Declarative Process Constraints\n",
            "Abstract: The more nuanced the declarative process constraints discovered from an event log, the more likely they are to capture meaningful business knowledge, thus fostering the application of declarative process modeling in practice. Branching the activation (source) or the target of the constraints, that is, allowing more than one event type to appear as the source or the target, is a typical way to increase their expressivity. For the discovery of Declare constraints, only the case of branching the constraint target considering the inclusive disjunction policy has been considered. In this paper, we present CBDeclare , a comprehensive approach to branched declarative process constraints, contributing in two key dimensions. First, we define a semantics of both source- and target-branched Declare constraints considering different branching policies. Second, we devise methods to discover the newly defined Declare constraint types from an event log. Our solution leverages the SIESTA framework’s scalable and incremental infrastructure for event processing, achieving significant performance gains in mining these extended constraint when compared to the solutions for target-branched constraint discovery available in the literature.\n",
            "URL: http://link.springer.com/openurl/fulltext?id=doi:10.1007/978-3-032-02929-4_9\n",
            "\n",
            "DOI: 10.1007/978-3-032-01475-7_13\n",
            "Title: Pattern Mining Under Simon’s Congruence\n",
            "Abstract: Given two strings  u and v and an integer  k , we say u and v are Simon’s congruent with respect to k if they have the same set of subsequences of length at most k . We study the complete pattern mining problem for Simon’s congruence, where the problem is to find the substrings of a given text  $$\\texttt{T}$$ T that maximizes the number of congruent substrings of the text, for each possible value of k . We design new data structures that capture the equivalence classes with respect to $$\\sim _k$$ ∼ k for substrings of the text. We then propose an $$O(|\\texttt{T}|^2\\log ^2|\\texttt{T}|)$$ O ( | T | 2 log 2 | T | ) -time algorithm for fixed-sized alphabets using the new data structures.\n",
            "URL: http://link.springer.com/openurl/fulltext?id=doi:10.1007/978-3-032-01475-7_13\n",
            "\n",
            "DOI: 10.1007/978-981-96-2771-4_1\n",
            "Title: Research on Vulnerability Mining Technology of Electric Power Industrial Control Equipment Based on Genetic Algorithm\n",
            "Abstract: The traditional vulnerability mining methods for information systems require prior knowledge of protocol specifications, which often necessitates developers to invest significant time in learning and comprehending the protocol format for effective development of vulnerability mining test cases. However, in the power industry, industrial control equipment utilizes a multitude of private protocols with undisclosed specifications (unknown protocols). Consequently, the conventional vulnerability mining technology based on prior knowledge cannot be directly applied to these unknown industrial control protocols. To address this issue, this paper proposes a method and system of fuzzy testing for industrial control equipment based on genetic algorithms. The objective is to resolve challenges such as prolonged development periods, inability to test unknown protocols, and low efficiency in conducting vulnerability mining tests on unknown protocol vulnerabilities within industrial control equipment.\n",
            "URL: http://link.springer.com/openurl/fulltext?id=doi:10.1007/978-981-96-2771-4_1\n",
            "\n",
            "DOI: 10.1007/978-3-031-96841-9_2\n",
            "Title: Analyzing Side-Tracking of Developers Using Object-Centric Process Mining\n",
            "Abstract: Managers need to analyze the software development process to pro-actively make decisions that meet quality, budget and time objectives. To aid this analysis, a number of data-driven approaches exist, which can be used for specific purposes, such as computing target key performance indicators (KPIs). In particular, process analysis techniques, like process mining, can analyze data from event logs of information systems and deliver actionable insights on how the process is conducted. However, traditional process mining techniques make strong assumptions on the structure of event logs, requiring the existence of a case identifier, used to group the traces. As a result, the output of such techniques only provides a narrow view of the reality, leading the manager towards wrong interpretations in cases of side-tracking , when a developer is involved in different processes that interleave one another. To account for these cases, we investigate the use of object-centric process mining (OCPM) to analyze software repositories. Our results help to explain performance issues by revealing the contributing factors that hinder the progress of development tasks.\n",
            "URL: http://link.springer.com/openurl/fulltext?id=doi:10.1007/978-3-031-96841-9_2\n",
            "\n",
            "DOI: 10.1007/978-3-032-02515-9_21\n",
            "Title: In Search of Digital Talent: Evidence from Public Sector Job Advertisements in Germany Using LLM-Enabled Competence Classification\n",
            "Abstract: The public sector continues to struggle with the digital transformation of its organizations, lagging behind the private sector in implementing digital processes and services. A key success factor is the availability of appropriate digital skills in the workforce. This can be enhanced by training existing staff or hiring skilled individuals. In the latter scenario, the hiring process must focus on the required competencies. Typically, job advertisements are used to communicate job requirements. his article explores the presence of digital competencies in job ads of German public organizations. We operationalize the DigComp 2.2 framework as a category system to identify required digital competences in these job advertisements. To assess a large volume of job postings, we employ a Large Language Model (LLM) for categorization. In this way, we are able to process 5,949 job advertisements. Results indicate frequent mentions of skills related to digital content creation and data handling, while communication, problem-solving, and safety are rarely highlighted. Although the reasons for this are not explicitly identified in our study, a mismatch is evident between the push for digital transformation in the public sector and the recruitment practices reflected in job advertisements.\n",
            "URL: http://link.springer.com/openurl/fulltext?id=doi:10.1007/978-3-032-02515-9_21\n",
            "\n",
            "DOI: 10.1007/978-3-031-93802-3_1\n",
            "Title: A Comprehensive Overview of Graph Convolutional Network\n",
            "Abstract: A graph convolutional network (GCN) is a neural network explicitly developed for processing graph-structured data input. Graph-structured data is represented as a graph, with each node denoting an entity and each edge signifying a relationship between two entities. Graph Convolutional Networks (GCNs) are applicable to numerous tasks involving graph-structured data, including node classification, link prediction, and graph classification. Graph Convolutional Networks (GCNs) perform by executing a sequence of convolutional operations on graph data. These convolution techniques resemble those utilized in convolutional neural networks (CNNs), although they are modified to function on graph-structured input. The convolution procedures in Graph Convolutional Networks (GCNs) consider the interconnections among nodes in the graph, enabling GCNs to acquire more intricate features from the graph data. Graph Convolutional Networks (GCNs) exhibit efficacy across numerous tasks using graph-structured data. For instance, GCNs have been employed for node classification in social networks, link prediction in recommendation systems, and graph classification in natural language processing. The various types of graph convolution networks like Spatial graph convolutional networks: These networks employ a spatial convolution operation to consolidate the properties of adjacent nodes. Spectral graph convolutional networks: These networks employ a spectral convolution process, which is more potent yet computationally intensive. Message passing neural networks: These networks are a variant of graph convolutional networks (GCN) that employs a message passing mechanism to consolidate the features of adjacent nodes. In graph computation, GCNs denote the application of a spatially moving filter across the nodes of a graph, which contains embeddings or data pertinent to each node, to derive a feature representation for each node. Information from bigger neighbourhoods can also be integrated by stacking many convolutional layers, akin to the construction of a conventional CNN.\n",
            "URL: http://link.springer.com/openurl/fulltext?id=doi:10.1007/978-3-031-93802-3_1\n",
            "\n",
            "DOI: 10.1007/978-3-031-93601-2_21\n",
            "Title: Data Science Techniques for Opinion Mining in Industrial Applications\n",
            "Abstract: Opinion mining is a crucial research area in data science that focuses on the automatic analysis of textual data (such as reviews, customer comments, and feedback) to identify and evaluate sentiments expressed. In industrial contexts, it plays a vital role in enhancing customer feedback analysis, optimizing predictive maintenance, and improving process efficiency. In this research, we propose an innovative opinion mining method that combines Natural Language Processing (NLP), domain ontologies, and Machine Learning (ML) techniques to assist managers in making informed decisions about their products and services. Our method begins by constructing domain-specific ontologies, which play a key role in aspect detection within user comments. We then collect a raw dataset from social media platforms, such as YouTube and Facebook, focusing on four domains: Tunisian restaurants, smartphones, the 2019 Tunisian elections, and Tunisian TV programs. This dataset undergoes multiple pre-processing steps, including transliteration, stop-word removal, and vectorization, to prepare it for analysis. To classify sentiments, we employ two advanced deep learning models (i.e., LSTM and Bi-GRU), which are applied to analyze both the overall sentiment of each comment and the sentiment associated with specific aspects. This dual-layer analysis provides a detailed understanding of user opinions, identifying whether sentiments are positive, negative, or neutral at both the comment and aspect levels. This work not only advances the field of opinion mining through the integration of ontologies and deep learning but also offers valuable practical implications for decision-making in a wide range of industrial applications.\n",
            "URL: http://link.springer.com/openurl/fulltext?id=doi:10.1007/978-3-031-93601-2_21\n",
            "\n",
            "DOI: 10.1007/978-981-96-6594-5_12\n",
            "Title: MLLM-Driven Semantic Enhancement and Alignment for Text-Based Person Search\n",
            "Abstract: Text-Based Person Search (TBPS) seeks to accurately locate target pedestrian images within extensive image databases by leveraging natural language descriptions, with the primary challenge centered around achieving cross-modal semantic alignment. Textual descriptions in existing datasets frequently lack sufficient semantic detail to fully represent the content of pedestrian images, resulting in semantic imbalance that significantly hampers the performance of TBPS models. To mitigate this issue, we fine-tune the Multimodal Large Language Model (MLLM) specifically for the TBPS task, utilizing its robust generative capabilities to enrich the semantic content of the text. However, MLLM faces the challenges of visual illusions and potential semantic mismatches in applications. To this end, we propose the Constrained Semantic Augmentation Module (CSAM) and the Influential Semantic Mining Module (ISMM). CSAM filters mismatched information through explicit semantic filtering to improve data quality and reliability; ISMM achieves precise local fine-grained semantic alignment by adaptively extracting and integrating influential semantic features across heterogeneous modalities, effectively reducing the impact of irrelevant information. Experimental results on various TBPS benchmark datasets show that our method significantly improves multiple evaluation metrics and effectively addresses the challenges of semantic imbalance.\n",
            "URL: http://link.springer.com/openurl/fulltext?id=doi:10.1007/978-981-96-6594-5_12\n",
            "\n"
          ]
        }
      ],
      "source": [
        "api_key = \"6107deac77dd4c25d5a8b14fb9331de2\"\n",
        "\n",
        "keyword = \"text mining\"\n",
        "\n",
        "url = \"https://api.springernature.com/meta/v2/json\"\n",
        "params = {\n",
        "    \"q\": keyword,\n",
        "    \"api_key\": api_key,\n",
        "    \"p\": 10   # jumlah hasil yang mau ditampilkan\n",
        "}\n",
        "\n",
        "response = requests.get(url, params=params)\n",
        "\n",
        "if response.status_code == 200:\n",
        "    data = response.json()\n",
        "    print(f\"Total hasil: {data['result'][0]['total']}\\n\")\n",
        "    for record in data['records']:\n",
        "        doi = record.get('doi', 'N/A')\n",
        "        title = record.get('title', 'No title')\n",
        "        abstract = record.get('abstract', 'No abstract')\n",
        "        url_val = record.get('url', [{}])[0].get('value', 'N/A')\n",
        "\n",
        "        print(f\"DOI: {doi}\")\n",
        "        print(f\"Title: {title}\")\n",
        "        print(f\"Abstract: {abstract}\")\n",
        "        print(f\"URL: {url_val}\\n\")\n",
        "else:\n",
        "    print(\"Error:\", response.status_code, response.text)"
      ]
    },
    {
      "cell_type": "code",
      "execution_count": 11,
      "metadata": {
        "colab": {
          "base_uri": "https://localhost:8080/"
        },
        "id": "9bde5ff8",
        "outputId": "0a283734-447b-489d-f499-44a7ae9173a6"
      },
      "outputs": [
        {
          "name": "stdout",
          "output_type": "stream",
          "text": [
            "Results saved to springer_results.csv\n"
          ]
        }
      ],
      "source": [
        "import pandas as pd\n",
        "\n",
        "all_records = []\n",
        "for record in data['records']:\n",
        "    doi = record.get('doi', 'N/A')\n",
        "    title = record.get('title', 'No title')\n",
        "    abstract = record.get('abstract', 'No abstract')\n",
        "    url_val = record.get('url', [{}])[0].get('value', 'N/A')\n",
        "    all_records.append({'DOI': doi, 'Title': title, 'Abstract': abstract, 'URL': url_val})\n",
        "\n",
        "df = pd.DataFrame(all_records)\n",
        "df.to_csv('springer_results.csv', index=False)\n",
        "\n",
        "print(\"Results saved to springer_results.csv\")"
      ]
    }
  ],
  "metadata": {
    "colab": {
      "provenance": []
    },
    "kernelspec": {
      "display_name": "Python 3",
      "name": "python3"
    },
    "language_info": {
      "name": "python"
    }
  },
  "nbformat": 4,
  "nbformat_minor": 0
}

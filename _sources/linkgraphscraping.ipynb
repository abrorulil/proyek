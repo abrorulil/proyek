{
 "cells": [
  {
   "cell_type": "markdown",
   "id": "469bc0fe",
   "metadata": {},
   "source": [
    "# Link Graph Scraping Teknik Industri"
   ]
  },
  {
   "cell_type": "code",
   "execution_count": 1,
   "id": "6d931e0d",
   "metadata": {},
   "outputs": [],
   "source": [
    "import requests\n",
    "from bs4 import BeautifulSoup\n",
    "import pandas as pd"
   ]
  },
  {
   "cell_type": "code",
   "execution_count": 2,
   "id": "bc21f563",
   "metadata": {},
   "outputs": [],
   "source": [
    "BASE_URL = \"https://pta.trunojoyo.ac.id\"\n",
    "START_URL = \"https://pta.trunojoyo.ac.id/c_search/byprod/9\" # Teknik Idustri\n",
    "headers = {\"User-Agent\": \"Mozilla/5.0\"}"
   ]
  },
  {
   "cell_type": "code",
   "execution_count": 3,
   "id": "73cbbc26",
   "metadata": {},
   "outputs": [
    {
     "name": "stdout",
     "output_type": "stream",
     "text": [
      "Crawling: https://pta.trunojoyo.ac.id/c_search/byprod/9\n",
      "Crawling: https://pta.trunojoyo.ac.id/c_search/byprod/4\n",
      "Crawling: https://pta.trunojoyo.ac.id/c_search/byprod/18\n",
      "Crawling: https://pta.trunojoyo.ac.id/c_search/byprod/14\n",
      "Crawling: https://pta.trunojoyo.ac.id/c_search/byfac/3\n",
      "Crawling: https://pta.trunojoyo.ac.id/c_search/byprod/9/2\n",
      "Crawling: https://pta.trunojoyo.ac.id/c_search/byprod/12\n",
      "Crawling: https://pta.trunojoyo.ac.id/c_search/byprod/36\n",
      "Crawling: https://pta.trunojoyo.ac.id/c_search/byprod/26\n",
      "Crawling: https://pta.trunojoyo.ac.id/c_search/byprod/10\n"
     ]
    }
   ],
   "source": [
    "def get_internal_links(url):\n",
    "    \"\"\"Ambil semua link internal dari satu halaman\"\"\"\n",
    "    try:\n",
    "        r = requests.get(url, headers=headers, timeout=10)\n",
    "        r.raise_for_status()\n",
    "        soup = BeautifulSoup(r.text, \"html.parser\")\n",
    "        links = []\n",
    "        for a in soup.find_all(\"a\", href=True):\n",
    "            href = a[\"href\"]\n",
    "            if href.startswith(\"/\") or href.startswith(BASE_URL):\n",
    "                if not href.startswith(\"javascript\"):\n",
    "                    if href.startswith(\"/\"):\n",
    "                        href = BASE_URL + href\n",
    "                    links.append(href.split(\"#\")[0])\n",
    "        return list(set(links))\n",
    "    except Exception as e:\n",
    "        print(f\"Error akses {url}: {e}\")\n",
    "        return []\n",
    "\n",
    "def crawl_graph(start_url, max_pages=20):\n",
    "    visited = set()\n",
    "    to_visit = [start_url]\n",
    "    edges = []\n",
    "\n",
    "    while to_visit and len(visited) < max_pages:\n",
    "        current = to_visit.pop(0)\n",
    "        if current in visited:\n",
    "            continue\n",
    "        visited.add(current)\n",
    "        print(f\"Crawling: {current}\")\n",
    "        \n",
    "        links = get_internal_links(current)\n",
    "        for link in links:\n",
    "            edges.append({\"source\": current, \"target\": link})\n",
    "            if link not in visited and link not in to_visit:\n",
    "                to_visit.append(link)\n",
    "    \n",
    "    return edges\n",
    "\n",
    "# Jalankan crawler graph\n",
    "edges = crawl_graph(START_URL, max_pages=10)\n",
    "\n",
    "# Simpan ke DataFrame\n",
    "df = pd.DataFrame(edges)\n",
    "df.to_excel(\"pta_graph.xlsx\", index=False)"
   ]
  },
  {
   "cell_type": "markdown",
   "id": "de659484",
   "metadata": {},
   "source": [
    "## Tampilkah DataFrame"
   ]
  },
  {
   "cell_type": "code",
   "execution_count": 4,
   "id": "963a747e",
   "metadata": {},
   "outputs": [
    {
     "data": {
      "text/html": [
       "<div>\n",
       "<style scoped>\n",
       "    .dataframe tbody tr th:only-of-type {\n",
       "        vertical-align: middle;\n",
       "    }\n",
       "\n",
       "    .dataframe tbody tr th {\n",
       "        vertical-align: top;\n",
       "    }\n",
       "\n",
       "    .dataframe thead th {\n",
       "        text-align: right;\n",
       "    }\n",
       "</style>\n",
       "<table border=\"1\" class=\"dataframe\">\n",
       "  <thead>\n",
       "    <tr style=\"text-align: right;\">\n",
       "      <th></th>\n",
       "      <th>source</th>\n",
       "      <th>target</th>\n",
       "    </tr>\n",
       "  </thead>\n",
       "  <tbody>\n",
       "    <tr>\n",
       "      <th>0</th>\n",
       "      <td>https://pta.trunojoyo.ac.id/c_search/byprod/9</td>\n",
       "      <td>https://pta.trunojoyo.ac.id/c_search/byprod/4</td>\n",
       "    </tr>\n",
       "    <tr>\n",
       "      <th>1</th>\n",
       "      <td>https://pta.trunojoyo.ac.id/c_search/byprod/9</td>\n",
       "      <td>https://pta.trunojoyo.ac.id/c_search/byprod/18</td>\n",
       "    </tr>\n",
       "    <tr>\n",
       "      <th>2</th>\n",
       "      <td>https://pta.trunojoyo.ac.id/c_search/byprod/9</td>\n",
       "      <td>https://pta.trunojoyo.ac.id/c_search/byprod/14</td>\n",
       "    </tr>\n",
       "    <tr>\n",
       "      <th>3</th>\n",
       "      <td>https://pta.trunojoyo.ac.id/c_search/byprod/9</td>\n",
       "      <td>https://pta.trunojoyo.ac.id/c_search/byfac/3</td>\n",
       "    </tr>\n",
       "    <tr>\n",
       "      <th>4</th>\n",
       "      <td>https://pta.trunojoyo.ac.id/c_search/byprod/9</td>\n",
       "      <td>https://pta.trunojoyo.ac.id/c_search/byprod/9/2</td>\n",
       "    </tr>\n",
       "    <tr>\n",
       "      <th>...</th>\n",
       "      <td>...</td>\n",
       "      <td>...</td>\n",
       "    </tr>\n",
       "    <tr>\n",
       "      <th>615</th>\n",
       "      <td>https://pta.trunojoyo.ac.id/c_search/byprod/10</td>\n",
       "      <td>https://pta.trunojoyo.ac.id/c_search/byprod/33</td>\n",
       "    </tr>\n",
       "    <tr>\n",
       "      <th>616</th>\n",
       "      <td>https://pta.trunojoyo.ac.id/c_search/byprod/10</td>\n",
       "      <td>https://pta.trunojoyo.ac.id/c_search/byprod/38</td>\n",
       "    </tr>\n",
       "    <tr>\n",
       "      <th>617</th>\n",
       "      <td>https://pta.trunojoyo.ac.id/c_search/byprod/10</td>\n",
       "      <td>https://pta.trunojoyo.ac.id/c_search/byprod/30</td>\n",
       "    </tr>\n",
       "    <tr>\n",
       "      <th>618</th>\n",
       "      <td>https://pta.trunojoyo.ac.id/c_search/byprod/10</td>\n",
       "      <td>https://pta.trunojoyo.ac.id/c_search/byprod/3</td>\n",
       "    </tr>\n",
       "    <tr>\n",
       "      <th>619</th>\n",
       "      <td>https://pta.trunojoyo.ac.id/c_search/byprod/10</td>\n",
       "      <td>https://pta.trunojoyo.ac.id/c_search/byprod/5</td>\n",
       "    </tr>\n",
       "  </tbody>\n",
       "</table>\n",
       "<p>620 rows × 2 columns</p>\n",
       "</div>"
      ],
      "text/plain": [
       "                                             source  \\\n",
       "0     https://pta.trunojoyo.ac.id/c_search/byprod/9   \n",
       "1     https://pta.trunojoyo.ac.id/c_search/byprod/9   \n",
       "2     https://pta.trunojoyo.ac.id/c_search/byprod/9   \n",
       "3     https://pta.trunojoyo.ac.id/c_search/byprod/9   \n",
       "4     https://pta.trunojoyo.ac.id/c_search/byprod/9   \n",
       "..                                              ...   \n",
       "615  https://pta.trunojoyo.ac.id/c_search/byprod/10   \n",
       "616  https://pta.trunojoyo.ac.id/c_search/byprod/10   \n",
       "617  https://pta.trunojoyo.ac.id/c_search/byprod/10   \n",
       "618  https://pta.trunojoyo.ac.id/c_search/byprod/10   \n",
       "619  https://pta.trunojoyo.ac.id/c_search/byprod/10   \n",
       "\n",
       "                                              target  \n",
       "0      https://pta.trunojoyo.ac.id/c_search/byprod/4  \n",
       "1     https://pta.trunojoyo.ac.id/c_search/byprod/18  \n",
       "2     https://pta.trunojoyo.ac.id/c_search/byprod/14  \n",
       "3       https://pta.trunojoyo.ac.id/c_search/byfac/3  \n",
       "4    https://pta.trunojoyo.ac.id/c_search/byprod/9/2  \n",
       "..                                               ...  \n",
       "615   https://pta.trunojoyo.ac.id/c_search/byprod/33  \n",
       "616   https://pta.trunojoyo.ac.id/c_search/byprod/38  \n",
       "617   https://pta.trunojoyo.ac.id/c_search/byprod/30  \n",
       "618    https://pta.trunojoyo.ac.id/c_search/byprod/3  \n",
       "619    https://pta.trunojoyo.ac.id/c_search/byprod/5  \n",
       "\n",
       "[620 rows x 2 columns]"
      ]
     },
     "execution_count": 4,
     "metadata": {},
     "output_type": "execute_result"
    }
   ],
   "source": [
    "df"
   ]
  }
 ],
 "metadata": {
  "kernelspec": {
   "display_name": "Python 3",
   "language": "python",
   "name": "python3"
  },
  "language_info": {
   "codemirror_mode": {
    "name": "ipython",
    "version": 3
   },
   "file_extension": ".py",
   "mimetype": "text/x-python",
   "name": "python",
   "nbconvert_exporter": "python",
   "pygments_lexer": "ipython3",
   "version": "3.13.7"
  }
 },
 "nbformat": 4,
 "nbformat_minor": 5
}
